{
 "cells": [
  {
   "cell_type": "markdown",
   "id": "8a77807f92f26ee",
   "metadata": {},
   "source": [
    "# Octave/Rocketry Tutorial\n",
    "By Deen Noori\n",
    "\n",
    "Let's learn how to use Octave/Matlab, a powerful scripting language used by many engineers and mathematicians. Matlab can be very different to languages you might have used in the past, but if you approach it from a math perspective, it becomes a very simple and powerful language.\n",
    "\n",
    "The snippet below should allow you to use Octave in a Jupyter Notebook. To install Octave in the first place, use brew"
   ]
  },
  {
   "cell_type": "code",
   "execution_count": null,
   "id": "dddfd9aaf7e6bd53",
   "metadata": {},
   "outputs": [],
   "source": [
    "!brew install octave"
   ]
  },
  {
   "cell_type": "code",
   "execution_count": null,
   "id": "fbc121e30a2defb3",
   "metadata": {},
   "outputs": [],
   "source": [
    "!pip3 uninstall ipython metakernel octave_kernel -y\n",
    "!pip3 install \"ipython<9.0\" \"metakernel<0.30\"\n",
    "!pip3 install octave_kernel"
   ]
  },
  {
   "cell_type": "code",
   "execution_count": null,
   "id": "1768619cd54dacd6",
   "metadata": {},
   "outputs": [],
   "source": [
    "!jupyter kernelspec list"
   ]
  },
  {
   "cell_type": "markdown",
   "id": "3a25d6a34f34d6be",
   "metadata": {},
   "source": [
    "Let's start off with what we are planning to do. By the end of this, you should have plotted the motion of a rocket in 3D space with multiple forces acting upon it. Let's start off with the basics, 1D motion.\n",
    "\n",
    "For each segment, we will define our state variables, or where the current information about where the rocket is. In 1D we only care about three things. The position, velocity, and acceleration of our rocket. This means our state variable will be as follows:"
   ]
  },
  {
   "cell_type": "code",
   "execution_count": null,
   "id": "c6e101337765458",
   "metadata": {
    "ExecuteTime": {
     "end_time": "2025-03-08T05:00:37.060756Z",
     "start_time": "2025-03-08T05:00:36.517335Z"
    }
   },
   "outputs": [],
   "source": [
    "g = -9.8\n",
    "m = 1\n",
    "\n",
    "x = 0.01\n",
    "v = 20\n",
    "a = m*g\n"
   ]
  },
  {
   "cell_type": "markdown",
   "id": "9c039e249f9ab7d0",
   "metadata": {},
   "source": [
    "We can now simulate the motion of the rocket by iterating over each vector until the rocket reaches the ground."
   ]
  },
  {
   "cell_type": "code",
   "execution_count": null,
   "id": "5298a67ca743dbb2",
   "metadata": {
    "ExecuteTime": {
     "end_time": "2025-03-08T05:02:21.386936Z",
     "start_time": "2025-03-08T05:02:19.294089Z"
    }
   },
   "outputs": [],
   "source": [
    "t = 0\n",
    "dt = 0.1\n",
    "\n",
    "states = [t; x; v; a];\n",
    "\n",
    "while x >= 0\n",
    "    a = a;\n",
    "    v = v + a*dt;\n",
    "    x = 0.5*a*dt^2 + v*dt + x;\n",
    "    t = t + dt;\n",
    "\n",
    "    new_state = [t; x; v; a];\n",
    "    states = [states new_state];\n",
    "end"
   ]
  },
  {
   "cell_type": "markdown",
   "id": "5a00803f01a0bbf4",
   "metadata": {},
   "source": [
    "Notice how every statement needs an end afterwards. Also, notice how appending an ; at the end of a line stops that variable from being printed. Lets graph this data, that we saved in states"
   ]
  },
  {
   "cell_type": "code",
   "execution_count": null,
   "id": "17689899",
   "metadata": {},
   "outputs": [],
   "source": [
    "available_graphics_toolkits()\n"
   ]
  },
  {
   "cell_type": "code",
   "execution_count": null,
   "id": "ee64723ebff30944",
   "metadata": {
    "ExecuteTime": {
     "end_time": "2025-03-08T05:04:13.494072Z",
     "start_time": "2025-03-08T05:04:06.039316Z"
    }
   },
   "outputs": [],
   "source": [
    "figure;\n",
    "plot(states(1,:), states(2,:), 'r', 'LineWidth', 2)\n",
    "xlabel('Time (s)'); ylabel('Position X (m)');\n",
    "title('Position vs time'); grid on;\n",
    "set(gcf,'Visible','on')"
   ]
  },
  {
   "cell_type": "markdown",
   "id": "002ae32c",
   "metadata": {},
   "source": [
    "Lets get a little more complicated - 2D systems. Its just the same thing as before, but now we have an x and y positions. Here is some code to get you started. Do matrix operations to find the new states. Remember that:\\\n",
    "$\\Delta x = 0.5 a dt^2 + v dt$ and \\\n",
    "$\\Delta v = a dt$"
   ]
  },
  {
   "cell_type": "code",
   "execution_count": null,
   "id": "efeb3280",
   "metadata": {},
   "outputs": [],
   "source": [
    "v0 = 10\n",
    "\n",
    "theta = 80\n",
    "\n",
    "% we use some trig to get the components of velocity\n",
    "% theta is from vertical, so 2 degrees would be 88 degrees from the horizontal\n",
    "x = 0\n",
    "v_x = sind(theta) * v0\n",
    "a_x = 0\n",
    "\n",
    "% cosd = cos(degrees)\n",
    "% slight offset to make while loop logic easier\n",
    "y = 0.1\n",
    "v_y = cosd(theta) * v0\n",
    "a_y = m*g\n",
    "\n",
    "% use matrix to store the current stare\n",
    "state_pos = [x; y]\n",
    "state_vel = [v_x; v_y]\n",
    "state_accel = [a_x; a_y]\n",
    "\n",
    "dt = 0.001\n",
    "\n",
    "t = 0\n",
    "\n",
    "% save the data here so we can graph it afterwards\n",
    "states_pos = [t; x; y]\n",
    "states_vel = [t; v_x; v_y]\n",
    "states_accel = [t; a_x; a_y]"
   ]
  },
  {
   "cell_type": "code",
   "execution_count": null,
   "id": "566a7e7f-ae6d-4eed-bc9b-2abb44cf4933",
   "metadata": {},
   "outputs": [],
   "source": [
    "while state_pos(2,1) >= 0\n",
    "    \n",
    "    % YOUR CODE HERE\n",
    "    % add the deltas to each state matrix\n",
    "    state_accel = ;\n",
    "    state_vel = ;\n",
    "    state_pos = ;\n",
    "    t = t + dt;\n",
    "    \n",
    "\n",
    "    % add it back together\n",
    "    states_pos = [states_pos [t; state_pos]];\n",
    "    states_vel = [states_vel [t; state_vel]];\n",
    "    states_accel = [states_accel [t; state_accel]];\n",
    "end\n",
    "\n",
    "% plot\n",
    "figure;\n",
    "plot(states_pos(2,:), states_pos(3,:), 'r', 'LineWidth', 2)\n",
    "xlabel('X position (m)'); ylabel('Y position (m)');\n",
    "title('Position'); grid on;\n",
    "set(gcf,'Visible','on')"
   ]
  },
  {
   "cell_type": "markdown",
   "id": "f4f80ca5",
   "metadata": {},
   "source": [
    "Now its time for 3D. Its just the same thing as every other time, but now there is one more variable. Fill in all the states. Keep in mind that you will have to figure out the velocity components (HINT: USE SPHERICAL CONVERSIONS)"
   ]
  },
  {
   "cell_type": "code",
   "execution_count": null,
   "id": "162ea058",
   "metadata": {},
   "outputs": [],
   "source": [
    "v0 = 10\n",
    "m = 1\n",
    "theta = 2\n",
    "phi = 90\n",
    "\n",
    "x = \n",
    "v_x = \n",
    "a_x = \n",
    "\n",
    "y = \n",
    "v_y = \n",
    "a_y = \n",
    "\n",
    "z = 0.01\n",
    "v_z = \n",
    "a_z = \n",
    "\n",
    "\n",
    "state_pos = \n",
    "    \n",
    "state_vel = \n",
    "state_accel =\n",
    "\n",
    "dt = 0.001\n",
    "\n",
    "t = 0\n",
    "\n",
    "states_pos = [t; x; y; z]\n",
    "states_vel = [t; v_x; v_y; v_z]\n",
    "states_accel = [t; a_x; a_y; a_z]\n",
    "\n",
    "while state_pos(3,1) >= 0\n",
    "    state_accel =\n",
    "    state_vel =\n",
    "    state_pos =\n",
    "    t = t + dt;\n",
    "    \n",
    "    states_pos = [states_pos [t; state_pos]];\n",
    "    states_vel = [states_vel [t; state_vel]];\n",
    "    states_accel = [states_accel [t; state_accel]];\n",
    "end\n",
    "\n",
    "figure;\n",
    "plot(states_pos(2,:), states_pos(3,:), states_pos(4,:), 'r', 'LineWidth', 2)\n",
    "xlabel('X)'); ylabel('Y'); zlabel('Z');\n",
    "title('Position vs time'); grid on;\n",
    "set(gcf,'Visible','on')"
   ]
  },
  {
   "cell_type": "markdown",
   "id": "6e3695a0",
   "metadata": {},
   "source": [
    "Now for the fun part. Right now, the only forces acting on the rocket is gravity. However, drag is a big factor. The equation for drag force is:\\\n",
    "\n",
    "$D = \\frac{1}{2}v_{0}^2 C_D A_{ref} \\rho$\\\n",
    "\n",
    "This means that now you must find the sum of all the force vectors, add them together, then divide by the total mass to get the final acceleration in each axis. One useful function will be $norm(v)$ which will give you the magnitude of a vector."
   ]
  },
  {
   "cell_type": "code",
   "execution_count": null,
   "id": "0168d124",
   "metadata": {},
   "outputs": [],
   "source": [
    "v0 = 30\n",
    "rho = 1.22;\n",
    "g = -9.8;\n",
    "Cd = 0.623;\n",
    "theta = 2;\n",
    "phi = 45;\n",
    "m = 0.408;\n",
    "A = 0.0032;"
   ]
  },
  {
   "cell_type": "code",
   "execution_count": null,
   "id": "916e74b9",
   "metadata": {},
   "outputs": [],
   "source": [
    "% initial offset from the ground\n",
    "mini_rod_length = 0.3;\n",
    "\n",
    "% direction vector of the rocket - use spherical coordinates\n",
    "dir = [ ; ; ];\n",
    "\n",
    "% initial states - SOLVE FOR VEL\n",
    "pos = [0; 0; mini_rod_length];\n",
    "vel = ;\n",
    "accel = [0; 0; 0];\n",
    "\n",
    "t = 0;\n",
    "dt = 0.01;\n",
    "\n",
    "positions = [t; pos];\n",
    "\n",
    "\n",
    "while pos(3,1) >= 0\n",
    "    grav_force = ;\n",
    "\n",
    "    % drag force should be in the opposite direction of the direction unit vector\n",
    "    % so -dir/norm(dir), but norm(dir) is 1 so, in the -dir direction.\n",
    "    drag_force = ;\n",
    "\n",
    "\n",
    "    total_accel = (grav_force + drag_force)/(m);\n",
    "\n",
    "    % same stuff as before\n",
    "    accel = total_accel;\n",
    "    vel = vel + accel * dt;\n",
    "    pos = pos + vel*dt + 0.5*accel*dt^2;\n",
    "    t = t+dt;\n",
    "\n",
    "    positions = [positions [t; pos]];\n",
    "end"
   ]
  },
  {
   "cell_type": "markdown",
   "id": "5b384ea2",
   "metadata": {},
   "source": [
    "3D plotting is pretty much the same thing as before, just with one more variable."
   ]
  },
  {
   "cell_type": "code",
   "execution_count": null,
   "id": "3ca8f521",
   "metadata": {},
   "outputs": [],
   "source": [
    "apogee_m = max(positions(4,:))\n",
    "apogee_ft = apogee_m * 3.281\n",
    "\n",
    "figure;\n",
    "plot3(positions(2,:)*3.281, positions(3,:)*3.281, positions(4,:)*3.281, 'b', 'LineWidth', 2);\n",
    "hold on;\n",
    "grid on;\n",
    "xlabel('X Position (ft)');\n",
    "ylabel('Y Position (ft)');\n",
    "zlabel('Z Position (ft)');\n",
    "title('Rocket flight');\n",
    "legend('Trajectory');\n",
    "view;\n",
    "set(gcf,'Visible','on')"
   ]
  },
  {
   "cell_type": "markdown",
   "id": "67f5a0c3",
   "metadata": {},
   "source": [
    "Now, lets account for thrust forces. The rocket has to get in the air somehow. The thrust curve for a F39 rocket motor is approximated by the following funtion.\n",
    "\n",
    "$Thrust(t)=$\\\n",
    "$0, t \\leq 0$ \\\n",
    "$1200t, 0 < t < 0.05$ \\\n",
    "$62-34t, 0.05 \\leq t \\geq 1$ \\\n",
    "$106.71386(t-1.63844)^2-11.9435, 1 < t < 1.3$ \\\n",
    "$0, t>1.3$\n",
    "\n",
    "Also remember that mass will change over time. A F39 motor starts off ar 59g, and linearly decreases in mass to 20g when it has fully burnt out (1.3s)"
   ]
  },
  {
   "cell_type": "code",
   "execution_count": null,
   "id": "590448f3",
   "metadata": {},
   "outputs": [],
   "source": [
    "function [thrust, mmass] = f39thrust(t)\n",
    "    if t < 0\n",
    "        thrust = ;\n",
    "        mmass = ;\n",
    "    elseif t>=0 & t<0.05\n",
    "        thrust = ;\n",
    "        mmass = ;\n",
    "    elseif t>=0.05 & t<=1\n",
    "        thrust = ;\n",
    "        mmass = ;\n",
    "    elseif t>1 & t<1.3\n",
    "        thrust = ;\n",
    "        mmass = ;\n",
    "    else\n",
    "        thrust = ;\n",
    "        mmass = ;\n",
    "    end\n",
    "    mmass = mmass/1000;\n",
    "endfunction"
   ]
  },
  {
   "cell_type": "markdown",
   "id": "f91e88ba",
   "metadata": {},
   "source": [
    "Just add this component to the loop and determine the max altitude. Thrust is in the same direction as the rocket is, that is $+dir$. Remember to set v0 to 0 above. The function also gives the weight of the motor as a function of time, make sure to add this correction to the total mass before dividing"
   ]
  },
  {
   "cell_type": "code",
   "execution_count": null,
   "id": "c312062a",
   "metadata": {},
   "outputs": [],
   "source": [
    "while pos(3,1) >= 0\n",
    "    grav_force = ;\n",
    "\n",
    "    % drag force should be in the opposite direction of the direction unit vector\n",
    "    % so -dir/norm(dir), but norm(dir) is 1 so, in the -dir direction.\n",
    "    drag_force = ;\n",
    "\n",
    "    \n",
    "    [currthrust, motormass] = f39thrust(t);\n",
    "    thrust_force = \n",
    "\n",
    "    % \n",
    "    total_accel = ;\n",
    "\n",
    "    % same stuff as before\n",
    "    accel = total_accel;\n",
    "    vel = vel + accel * dt;\n",
    "    pos = pos + vel*dt + 0.5*accel*dt^2;\n",
    "    t = t+dt;\n",
    "\n",
    "    positions = [positions [t; pos]];\n",
    "end\n",
    "\n",
    "apogee_m = max(positions(4,:))\n",
    "apogee_ft = apogee_m * 3.281\n",
    "\n",
    "figure;\n",
    "plot3(positions(2,:)*3.281, positions(3,:)*3.281, positions(4,:)*3.281, 'b', 'LineWidth', 2);\n",
    "hold on;\n",
    "grid on;\n",
    "xlabel('X Position (ft)');\n",
    "ylabel('Y Position (ft)');\n",
    "zlabel('Z Position (ft)');\n",
    "title('Rocket flight');\n",
    "legend('Trajectory');\n",
    "view;\n",
    "set(gcf,'Visible','on')"
   ]
  },
  {
   "cell_type": "markdown",
   "id": "2d5aba15",
   "metadata": {},
   "source": [
    "Some things to try:\n",
    "- Model the decent of a rocket with a parachute - make drag and area very high at apogee\n",
    "- Add wind forces"
   ]
  }
 ],
 "metadata": {
  "kernelspec": {
   "display_name": "Octave",
   "language": "octave",
   "name": "octave"
  },
  "language_info": {
   "file_extension": ".m",
   "help_links": [
    {
     "text": "GNU Octave",
     "url": "https://www.gnu.org/software/octave/support.html"
    },
    {
     "text": "Octave Kernel",
     "url": "https://github.com/Calysto/octave_kernel"
    },
    {
     "text": "MetaKernel Magics",
     "url": "https://metakernel.readthedocs.io/en/latest/source/README.html"
    }
   ],
   "mimetype": "text/x-octave",
   "name": "octave",
   "version": "9.4.0"
  }
 },
 "nbformat": 4,
 "nbformat_minor": 5
}
