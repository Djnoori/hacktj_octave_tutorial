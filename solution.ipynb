{
 "cells": [
  {
   "cell_type": "code",
   "execution_count": 6,
   "metadata": {},
   "outputs": [],
   "source": [
    "rho = 1.22;\n",
    "g = -9.8;"
   ]
  },
  {
   "cell_type": "code",
   "execution_count": null,
   "metadata": {},
   "outputs": [],
   "source": [
    "set(gcf,'Visible','on')"
   ]
  },
  {
   "cell_type": "code",
   "execution_count": 2,
   "metadata": {},
   "outputs": [],
   "source": [
    "A = 0.0032;\n",
    "L = 0.77;\n",
    "Cp = 0.45;\n",
    "Cg = 0.36;\n",
    "Cn_alpha = 5.5;\n",
    "Cd = 0.623;\n",
    "m = 0.408;"
   ]
  },
  {
   "cell_type": "code",
   "execution_count": 3,
   "metadata": {},
   "outputs": [],
   "source": [
    "function [thrust, mmass] = f39thrust(t)\n",
    "    if t < 0\n",
    "        thrust = 0;\n",
    "        mmass = 59;\n",
    "    elseif t>=0 & t<0.05\n",
    "        thrust = 1200*t;\n",
    "        mmass = 20 + 39*(1-t/1.3);\n",
    "    elseif t>=0.05 & t<=1\n",
    "        thrust = 62-34*t;\n",
    "        mmass = 20 +39*(1-t/1.3);\n",
    "    elseif t>1 & t<1.3\n",
    "        thrust = 106.71386*(t-1.63844)^2-11.9435;\n",
    "        mmass = 20 + 39*(1-t/1.3);\n",
    "    else\n",
    "        thrust = 0;\n",
    "        mmass = 20;\n",
    "    end\n",
    "    mmass = mmass/1000;\n",
    "endfunction"
   ]
  },
  {
   "cell_type": "code",
   "execution_count": 4,
   "metadata": {},
   "outputs": [],
   "source": [
    "theta = 2;\n",
    "phi = 45;\n",
    "mini_rod_length = 0.3;\n",
    "\n",
    "dir = [sind(theta)*cosd(phi); sind(theta)*sind(phi); cosd(theta)];\n",
    "\n",
    "pos = [0; 0; mini_rod_length];\n",
    "vel = [0; 0; 0];\n",
    "accel = [0; 0; 0];\n",
    "\n",
    "t = 0;\n",
    "dt = 0.01;\n",
    "\n",
    "positions = [t; pos];\n",
    "\n",
    "\n",
    "while pos(3,1) >= 0\n",
    "  grav_force = [0;0;m*g];\n",
    "  drag_force = 0.5*Cd*A*rho* norm(vel) * -vel;\n",
    "  \n",
    "  [currthrust, motormass] = f39thrust(t);\n",
    "  thrust_force = currthrust * dir/norm(dir);\n",
    "\n",
    "  total_accel = (grav_force + drag_force + thrust_force)/(m+motormass);\n",
    "\n",
    "  accel = total_accel;\n",
    "  vel = vel + accel * dt;\n",
    "  pos = pos + vel*dt + 0.5*accel*dt^2;\n",
    "  t = t+dt;\n",
    "\n",
    "  positions = [positions [t; pos]];\n",
    "end"
   ]
  },
  {
   "cell_type": "code",
   "execution_count": 8,
   "metadata": {},
   "outputs": [
    {
     "name": "stdout",
     "output_type": "stream",
     "text": [
      "apogee_m = 263.66\n",
      "apogee_ft = 865.06\n"
     ]
    },
    {
     "data": {
      "image/png": "[encoded data removed]",
      "text/plain": [
       "<IPython.core.display.Image object>"
      ]
     },
     "metadata": {},
     "output_type": "display_data"
    }
   ],
   "source": [
    "apogee_m = max(positions(4,:))\n",
    "apogee_ft = apogee_m * 3.281\n",
    "\n",
    "figure;\n",
    "plot3(positions(2,:)*3.281, positions(3,:)*3.281, positions(4,:)*3.281, 'b', 'LineWidth', 2);\n",
    "hold on;\n",
    "grid on;\n",
    "xlabel('X Position (ft)');\n",
    "ylabel('Y Position (ft)');\n",
    "zlabel('Z Position (ft)');\n",
    "title('Rocket flight');\n",
    "legend('Trajectory');\n",
    "view;\n",
    "set(gcf,'Visible','on')"
   ]
  }
 ],
 "metadata": {
  "kernelspec": {
   "display_name": "Octave",
   "language": "octave",
   "name": "octave"
  },
  "language_info": {
   "file_extension": ".m",
   "help_links": [
    {
     "text": "GNU Octave",
     "url": "https://www.gnu.org/software/octave/support.html"
    },
    {
     "text": "Octave Kernel",
     "url": "https://github.com/Calysto/octave_kernel"
    },
    {
     "text": "MetaKernel Magics",
     "url": "https://metakernel.readthedocs.io/en/latest/source/README.html"
    }
   ],
   "mimetype": "text/x-octave",
   "name": "octave",
   "version": "9.4.0"
  }
 },
 "nbformat": 4,
 "nbformat_minor": 2
}
